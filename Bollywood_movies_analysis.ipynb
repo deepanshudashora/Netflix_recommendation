{
 "cells": [
  {
   "cell_type": "code",
   "execution_count": 1,
   "metadata": {},
   "outputs": [],
   "source": [
    "import pandas as pd\n",
    "import numpy as np\n",
    "import seaborn as sns\n",
    "import warnings\n",
    "warnings.filterwarnings('ignore')\n",
    "import matplotlib.pyplot as plt\n",
    "%matplotlib inline"
   ]
  },
  {
   "cell_type": "code",
   "execution_count": 2,
   "metadata": {},
   "outputs": [
    {
     "data": {
      "text/html": [
       "<div>\n",
       "<style scoped>\n",
       "    .dataframe tbody tr th:only-of-type {\n",
       "        vertical-align: middle;\n",
       "    }\n",
       "\n",
       "    .dataframe tbody tr th {\n",
       "        vertical-align: top;\n",
       "    }\n",
       "\n",
       "    .dataframe thead th {\n",
       "        text-align: right;\n",
       "    }\n",
       "</style>\n",
       "<table border=\"1\" class=\"dataframe\">\n",
       "  <thead>\n",
       "    <tr style=\"text-align: right;\">\n",
       "      <th></th>\n",
       "      <th>show_id</th>\n",
       "      <th>type</th>\n",
       "      <th>title</th>\n",
       "      <th>director</th>\n",
       "      <th>cast</th>\n",
       "      <th>country</th>\n",
       "      <th>date_added</th>\n",
       "      <th>release_year</th>\n",
       "      <th>rating</th>\n",
       "      <th>duration</th>\n",
       "      <th>listed_in</th>\n",
       "      <th>description</th>\n",
       "    </tr>\n",
       "  </thead>\n",
       "  <tbody>\n",
       "    <tr>\n",
       "      <th>0</th>\n",
       "      <td>81145628</td>\n",
       "      <td>Movie</td>\n",
       "      <td>Norm of the North: King Sized Adventure</td>\n",
       "      <td>Richard Finn, Tim Maltby</td>\n",
       "      <td>Alan Marriott, Andrew Toth, Brian Dobson, Cole...</td>\n",
       "      <td>United States, India, South Korea, China</td>\n",
       "      <td>September 9, 2019</td>\n",
       "      <td>2019</td>\n",
       "      <td>TV-PG</td>\n",
       "      <td>90 min</td>\n",
       "      <td>Children &amp; Family Movies, Comedies</td>\n",
       "      <td>Before planning an awesome wedding for his gra...</td>\n",
       "    </tr>\n",
       "    <tr>\n",
       "      <th>1</th>\n",
       "      <td>80117401</td>\n",
       "      <td>Movie</td>\n",
       "      <td>Jandino: Whatever it Takes</td>\n",
       "      <td>NaN</td>\n",
       "      <td>Jandino Asporaat</td>\n",
       "      <td>United Kingdom</td>\n",
       "      <td>September 9, 2016</td>\n",
       "      <td>2016</td>\n",
       "      <td>TV-MA</td>\n",
       "      <td>94 min</td>\n",
       "      <td>Stand-Up Comedy</td>\n",
       "      <td>Jandino Asporaat riffs on the challenges of ra...</td>\n",
       "    </tr>\n",
       "    <tr>\n",
       "      <th>2</th>\n",
       "      <td>70234439</td>\n",
       "      <td>TV Show</td>\n",
       "      <td>Transformers Prime</td>\n",
       "      <td>NaN</td>\n",
       "      <td>Peter Cullen, Sumalee Montano, Frank Welker, J...</td>\n",
       "      <td>United States</td>\n",
       "      <td>September 8, 2018</td>\n",
       "      <td>2013</td>\n",
       "      <td>TV-Y7-FV</td>\n",
       "      <td>1 Season</td>\n",
       "      <td>Kids' TV</td>\n",
       "      <td>With the help of three human allies, the Autob...</td>\n",
       "    </tr>\n",
       "    <tr>\n",
       "      <th>3</th>\n",
       "      <td>80058654</td>\n",
       "      <td>TV Show</td>\n",
       "      <td>Transformers: Robots in Disguise</td>\n",
       "      <td>NaN</td>\n",
       "      <td>Will Friedle, Darren Criss, Constance Zimmer, ...</td>\n",
       "      <td>United States</td>\n",
       "      <td>September 8, 2018</td>\n",
       "      <td>2016</td>\n",
       "      <td>TV-Y7</td>\n",
       "      <td>1 Season</td>\n",
       "      <td>Kids' TV</td>\n",
       "      <td>When a prison ship crash unleashes hundreds of...</td>\n",
       "    </tr>\n",
       "    <tr>\n",
       "      <th>4</th>\n",
       "      <td>80125979</td>\n",
       "      <td>Movie</td>\n",
       "      <td>#realityhigh</td>\n",
       "      <td>Fernando Lebrija</td>\n",
       "      <td>Nesta Cooper, Kate Walsh, John Michael Higgins...</td>\n",
       "      <td>United States</td>\n",
       "      <td>September 8, 2017</td>\n",
       "      <td>2017</td>\n",
       "      <td>TV-14</td>\n",
       "      <td>99 min</td>\n",
       "      <td>Comedies</td>\n",
       "      <td>When nerdy high schooler Dani finally attracts...</td>\n",
       "    </tr>\n",
       "  </tbody>\n",
       "</table>\n",
       "</div>"
      ],
      "text/plain": [
       "    show_id     type                                    title  \\\n",
       "0  81145628    Movie  Norm of the North: King Sized Adventure   \n",
       "1  80117401    Movie               Jandino: Whatever it Takes   \n",
       "2  70234439  TV Show                       Transformers Prime   \n",
       "3  80058654  TV Show         Transformers: Robots in Disguise   \n",
       "4  80125979    Movie                             #realityhigh   \n",
       "\n",
       "                   director  \\\n",
       "0  Richard Finn, Tim Maltby   \n",
       "1                       NaN   \n",
       "2                       NaN   \n",
       "3                       NaN   \n",
       "4          Fernando Lebrija   \n",
       "\n",
       "                                                cast  \\\n",
       "0  Alan Marriott, Andrew Toth, Brian Dobson, Cole...   \n",
       "1                                   Jandino Asporaat   \n",
       "2  Peter Cullen, Sumalee Montano, Frank Welker, J...   \n",
       "3  Will Friedle, Darren Criss, Constance Zimmer, ...   \n",
       "4  Nesta Cooper, Kate Walsh, John Michael Higgins...   \n",
       "\n",
       "                                    country         date_added  release_year  \\\n",
       "0  United States, India, South Korea, China  September 9, 2019          2019   \n",
       "1                            United Kingdom  September 9, 2016          2016   \n",
       "2                             United States  September 8, 2018          2013   \n",
       "3                             United States  September 8, 2018          2016   \n",
       "4                             United States  September 8, 2017          2017   \n",
       "\n",
       "     rating  duration                           listed_in  \\\n",
       "0     TV-PG    90 min  Children & Family Movies, Comedies   \n",
       "1     TV-MA    94 min                     Stand-Up Comedy   \n",
       "2  TV-Y7-FV  1 Season                            Kids' TV   \n",
       "3     TV-Y7  1 Season                            Kids' TV   \n",
       "4     TV-14    99 min                            Comedies   \n",
       "\n",
       "                                         description  \n",
       "0  Before planning an awesome wedding for his gra...  \n",
       "1  Jandino Asporaat riffs on the challenges of ra...  \n",
       "2  With the help of three human allies, the Autob...  \n",
       "3  When a prison ship crash unleashes hundreds of...  \n",
       "4  When nerdy high schooler Dani finally attracts...  "
      ]
     },
     "execution_count": 2,
     "metadata": {},
     "output_type": "execute_result"
    }
   ],
   "source": [
    "df=pd.read_csv(\"netflix_titles.csv\")\n",
    "df.head()"
   ]
  },
  {
   "cell_type": "code",
   "execution_count": 3,
   "metadata": {},
   "outputs": [],
   "source": [
    "df_india = df[df['country']=='India']"
   ]
  },
  {
   "cell_type": "code",
   "execution_count": 4,
   "metadata": {},
   "outputs": [
    {
     "data": {
      "text/html": [
       "<div>\n",
       "<style scoped>\n",
       "    .dataframe tbody tr th:only-of-type {\n",
       "        vertical-align: middle;\n",
       "    }\n",
       "\n",
       "    .dataframe tbody tr th {\n",
       "        vertical-align: top;\n",
       "    }\n",
       "\n",
       "    .dataframe thead th {\n",
       "        text-align: right;\n",
       "    }\n",
       "</style>\n",
       "<table border=\"1\" class=\"dataframe\">\n",
       "  <thead>\n",
       "    <tr style=\"text-align: right;\">\n",
       "      <th></th>\n",
       "      <th>show_id</th>\n",
       "      <th>type</th>\n",
       "      <th>title</th>\n",
       "      <th>director</th>\n",
       "      <th>cast</th>\n",
       "      <th>country</th>\n",
       "      <th>date_added</th>\n",
       "      <th>release_year</th>\n",
       "      <th>rating</th>\n",
       "      <th>duration</th>\n",
       "      <th>listed_in</th>\n",
       "      <th>description</th>\n",
       "    </tr>\n",
       "  </thead>\n",
       "  <tbody>\n",
       "    <tr>\n",
       "      <th>35</th>\n",
       "      <td>81154455</td>\n",
       "      <td>Movie</td>\n",
       "      <td>Article 15</td>\n",
       "      <td>Anubhav Sinha</td>\n",
       "      <td>Ayushmann Khurrana, Nassar, Manoj Pahwa, Kumud...</td>\n",
       "      <td>India</td>\n",
       "      <td>September 6, 2019</td>\n",
       "      <td>2019</td>\n",
       "      <td>TV-MA</td>\n",
       "      <td>125 min</td>\n",
       "      <td>Dramas, International Movies, Thrillers</td>\n",
       "      <td>The grim realities of caste discrimination com...</td>\n",
       "    </tr>\n",
       "    <tr>\n",
       "      <th>37</th>\n",
       "      <td>81052275</td>\n",
       "      <td>Movie</td>\n",
       "      <td>Ee Nagaraniki Emaindi</td>\n",
       "      <td>Tharun Bhascker</td>\n",
       "      <td>Vishwaksen Naidu, Sushanth Reddy, Abhinav Goma...</td>\n",
       "      <td>India</td>\n",
       "      <td>September 6, 2019</td>\n",
       "      <td>2018</td>\n",
       "      <td>TV-14</td>\n",
       "      <td>133 min</td>\n",
       "      <td>Comedies, International Movies</td>\n",
       "      <td>In Goa and in desperate need of cash, four chi...</td>\n",
       "    </tr>\n",
       "    <tr>\n",
       "      <th>41</th>\n",
       "      <td>70303496</td>\n",
       "      <td>Movie</td>\n",
       "      <td>PK</td>\n",
       "      <td>Rajkumar Hirani</td>\n",
       "      <td>Aamir Khan, Anuskha Sharma, Sanjay Dutt, Saura...</td>\n",
       "      <td>India</td>\n",
       "      <td>September 6, 2018</td>\n",
       "      <td>2014</td>\n",
       "      <td>TV-14</td>\n",
       "      <td>146 min</td>\n",
       "      <td>Comedies, Dramas, International Movies</td>\n",
       "      <td>Aamir Khan teams with director Rajkumar Hirani...</td>\n",
       "    </tr>\n",
       "    <tr>\n",
       "      <th>58</th>\n",
       "      <td>81155784</td>\n",
       "      <td>Movie</td>\n",
       "      <td>Watchman</td>\n",
       "      <td>A. L. Vijay</td>\n",
       "      <td>G.V. Prakash Kumar, Samyuktha Hegde, Suman, Ra...</td>\n",
       "      <td>India</td>\n",
       "      <td>September 4, 2019</td>\n",
       "      <td>2019</td>\n",
       "      <td>TV-14</td>\n",
       "      <td>93 min</td>\n",
       "      <td>Comedies, Dramas, International Movies</td>\n",
       "      <td>Rushing to pay off a loan shark, a young man b...</td>\n",
       "    </tr>\n",
       "    <tr>\n",
       "      <th>99</th>\n",
       "      <td>80225885</td>\n",
       "      <td>TV Show</td>\n",
       "      <td>Bard of Blood</td>\n",
       "      <td>NaN</td>\n",
       "      <td>Emraan Hashmi, Viineet Kumar, Sobhita Dhulipal...</td>\n",
       "      <td>India</td>\n",
       "      <td>September 27, 2019</td>\n",
       "      <td>2019</td>\n",
       "      <td>TV-MA</td>\n",
       "      <td>1 Season</td>\n",
       "      <td>International TV Shows, TV Action &amp; Adventure,...</td>\n",
       "      <td>Years after a disastrous job in Balochistan, a...</td>\n",
       "    </tr>\n",
       "  </tbody>\n",
       "</table>\n",
       "</div>"
      ],
      "text/plain": [
       "     show_id     type                  title         director  \\\n",
       "35  81154455    Movie             Article 15    Anubhav Sinha   \n",
       "37  81052275    Movie  Ee Nagaraniki Emaindi  Tharun Bhascker   \n",
       "41  70303496    Movie                     PK  Rajkumar Hirani   \n",
       "58  81155784    Movie               Watchman      A. L. Vijay   \n",
       "99  80225885  TV Show          Bard of Blood              NaN   \n",
       "\n",
       "                                                 cast country  \\\n",
       "35  Ayushmann Khurrana, Nassar, Manoj Pahwa, Kumud...   India   \n",
       "37  Vishwaksen Naidu, Sushanth Reddy, Abhinav Goma...   India   \n",
       "41  Aamir Khan, Anuskha Sharma, Sanjay Dutt, Saura...   India   \n",
       "58  G.V. Prakash Kumar, Samyuktha Hegde, Suman, Ra...   India   \n",
       "99  Emraan Hashmi, Viineet Kumar, Sobhita Dhulipal...   India   \n",
       "\n",
       "            date_added  release_year rating  duration  \\\n",
       "35   September 6, 2019          2019  TV-MA   125 min   \n",
       "37   September 6, 2019          2018  TV-14   133 min   \n",
       "41   September 6, 2018          2014  TV-14   146 min   \n",
       "58   September 4, 2019          2019  TV-14    93 min   \n",
       "99  September 27, 2019          2019  TV-MA  1 Season   \n",
       "\n",
       "                                            listed_in  \\\n",
       "35            Dramas, International Movies, Thrillers   \n",
       "37                     Comedies, International Movies   \n",
       "41             Comedies, Dramas, International Movies   \n",
       "58             Comedies, Dramas, International Movies   \n",
       "99  International TV Shows, TV Action & Adventure,...   \n",
       "\n",
       "                                          description  \n",
       "35  The grim realities of caste discrimination com...  \n",
       "37  In Goa and in desperate need of cash, four chi...  \n",
       "41  Aamir Khan teams with director Rajkumar Hirani...  \n",
       "58  Rushing to pay off a loan shark, a young man b...  \n",
       "99  Years after a disastrous job in Balochistan, a...  "
      ]
     },
     "execution_count": 4,
     "metadata": {},
     "output_type": "execute_result"
    }
   ],
   "source": [
    "df_india.head()"
   ]
  },
  {
   "cell_type": "code",
   "execution_count": 5,
   "metadata": {},
   "outputs": [],
   "source": [
    "df_india.drop(['country'],axis=1,inplace=True)"
   ]
  },
  {
   "cell_type": "code",
   "execution_count": 6,
   "metadata": {},
   "outputs": [],
   "source": [
    "Movie_list = {'TV-Y7':'Child Movies',\n",
    "              'TV-G':'Family Movies',\n",
    "              'TV-PG':'Family Movies-Parental Guidance',\n",
    "              'TV-14':'Family Movies-Parental Guidance',\n",
    "              'TV-MA':'Adult Movies','TV-Y7-FV':'Child Movies',\n",
    "              'PG-13':'Family Movies-Parental Guidance',\n",
    "              'PG':'Family Movies-Parental Guidance',\n",
    "              'R':'Adult Movies',\n",
    "              'NR':'Unrated Movies',\n",
    "              'UR':'Unrated Movies'}"
   ]
  },
  {
   "cell_type": "code",
   "execution_count": 7,
   "metadata": {},
   "outputs": [],
   "source": [
    "df_india['Movie Type'] = df_india['rating'].map(Movie_list)"
   ]
  },
  {
   "cell_type": "code",
   "execution_count": 8,
   "metadata": {},
   "outputs": [
    {
     "data": {
      "text/html": [
       "<div>\n",
       "<style scoped>\n",
       "    .dataframe tbody tr th:only-of-type {\n",
       "        vertical-align: middle;\n",
       "    }\n",
       "\n",
       "    .dataframe tbody tr th {\n",
       "        vertical-align: top;\n",
       "    }\n",
       "\n",
       "    .dataframe thead th {\n",
       "        text-align: right;\n",
       "    }\n",
       "</style>\n",
       "<table border=\"1\" class=\"dataframe\">\n",
       "  <thead>\n",
       "    <tr style=\"text-align: right;\">\n",
       "      <th></th>\n",
       "      <th>show_id</th>\n",
       "      <th>type</th>\n",
       "      <th>title</th>\n",
       "      <th>director</th>\n",
       "      <th>cast</th>\n",
       "      <th>date_added</th>\n",
       "      <th>release_year</th>\n",
       "      <th>rating</th>\n",
       "      <th>duration</th>\n",
       "      <th>listed_in</th>\n",
       "      <th>description</th>\n",
       "      <th>Movie Type</th>\n",
       "    </tr>\n",
       "  </thead>\n",
       "  <tbody>\n",
       "    <tr>\n",
       "      <th>35</th>\n",
       "      <td>81154455</td>\n",
       "      <td>Movie</td>\n",
       "      <td>Article 15</td>\n",
       "      <td>Anubhav Sinha</td>\n",
       "      <td>Ayushmann Khurrana, Nassar, Manoj Pahwa, Kumud...</td>\n",
       "      <td>September 6, 2019</td>\n",
       "      <td>2019</td>\n",
       "      <td>TV-MA</td>\n",
       "      <td>125 min</td>\n",
       "      <td>Dramas, International Movies, Thrillers</td>\n",
       "      <td>The grim realities of caste discrimination com...</td>\n",
       "      <td>Adult Movies</td>\n",
       "    </tr>\n",
       "    <tr>\n",
       "      <th>37</th>\n",
       "      <td>81052275</td>\n",
       "      <td>Movie</td>\n",
       "      <td>Ee Nagaraniki Emaindi</td>\n",
       "      <td>Tharun Bhascker</td>\n",
       "      <td>Vishwaksen Naidu, Sushanth Reddy, Abhinav Goma...</td>\n",
       "      <td>September 6, 2019</td>\n",
       "      <td>2018</td>\n",
       "      <td>TV-14</td>\n",
       "      <td>133 min</td>\n",
       "      <td>Comedies, International Movies</td>\n",
       "      <td>In Goa and in desperate need of cash, four chi...</td>\n",
       "      <td>Family Movies-Parental Guidance</td>\n",
       "    </tr>\n",
       "    <tr>\n",
       "      <th>41</th>\n",
       "      <td>70303496</td>\n",
       "      <td>Movie</td>\n",
       "      <td>PK</td>\n",
       "      <td>Rajkumar Hirani</td>\n",
       "      <td>Aamir Khan, Anuskha Sharma, Sanjay Dutt, Saura...</td>\n",
       "      <td>September 6, 2018</td>\n",
       "      <td>2014</td>\n",
       "      <td>TV-14</td>\n",
       "      <td>146 min</td>\n",
       "      <td>Comedies, Dramas, International Movies</td>\n",
       "      <td>Aamir Khan teams with director Rajkumar Hirani...</td>\n",
       "      <td>Family Movies-Parental Guidance</td>\n",
       "    </tr>\n",
       "    <tr>\n",
       "      <th>58</th>\n",
       "      <td>81155784</td>\n",
       "      <td>Movie</td>\n",
       "      <td>Watchman</td>\n",
       "      <td>A. L. Vijay</td>\n",
       "      <td>G.V. Prakash Kumar, Samyuktha Hegde, Suman, Ra...</td>\n",
       "      <td>September 4, 2019</td>\n",
       "      <td>2019</td>\n",
       "      <td>TV-14</td>\n",
       "      <td>93 min</td>\n",
       "      <td>Comedies, Dramas, International Movies</td>\n",
       "      <td>Rushing to pay off a loan shark, a young man b...</td>\n",
       "      <td>Family Movies-Parental Guidance</td>\n",
       "    </tr>\n",
       "    <tr>\n",
       "      <th>99</th>\n",
       "      <td>80225885</td>\n",
       "      <td>TV Show</td>\n",
       "      <td>Bard of Blood</td>\n",
       "      <td>NaN</td>\n",
       "      <td>Emraan Hashmi, Viineet Kumar, Sobhita Dhulipal...</td>\n",
       "      <td>September 27, 2019</td>\n",
       "      <td>2019</td>\n",
       "      <td>TV-MA</td>\n",
       "      <td>1 Season</td>\n",
       "      <td>International TV Shows, TV Action &amp; Adventure,...</td>\n",
       "      <td>Years after a disastrous job in Balochistan, a...</td>\n",
       "      <td>Adult Movies</td>\n",
       "    </tr>\n",
       "  </tbody>\n",
       "</table>\n",
       "</div>"
      ],
      "text/plain": [
       "     show_id     type                  title         director  \\\n",
       "35  81154455    Movie             Article 15    Anubhav Sinha   \n",
       "37  81052275    Movie  Ee Nagaraniki Emaindi  Tharun Bhascker   \n",
       "41  70303496    Movie                     PK  Rajkumar Hirani   \n",
       "58  81155784    Movie               Watchman      A. L. Vijay   \n",
       "99  80225885  TV Show          Bard of Blood              NaN   \n",
       "\n",
       "                                                 cast          date_added  \\\n",
       "35  Ayushmann Khurrana, Nassar, Manoj Pahwa, Kumud...   September 6, 2019   \n",
       "37  Vishwaksen Naidu, Sushanth Reddy, Abhinav Goma...   September 6, 2019   \n",
       "41  Aamir Khan, Anuskha Sharma, Sanjay Dutt, Saura...   September 6, 2018   \n",
       "58  G.V. Prakash Kumar, Samyuktha Hegde, Suman, Ra...   September 4, 2019   \n",
       "99  Emraan Hashmi, Viineet Kumar, Sobhita Dhulipal...  September 27, 2019   \n",
       "\n",
       "    release_year rating  duration  \\\n",
       "35          2019  TV-MA   125 min   \n",
       "37          2018  TV-14   133 min   \n",
       "41          2014  TV-14   146 min   \n",
       "58          2019  TV-14    93 min   \n",
       "99          2019  TV-MA  1 Season   \n",
       "\n",
       "                                            listed_in  \\\n",
       "35            Dramas, International Movies, Thrillers   \n",
       "37                     Comedies, International Movies   \n",
       "41             Comedies, Dramas, International Movies   \n",
       "58             Comedies, Dramas, International Movies   \n",
       "99  International TV Shows, TV Action & Adventure,...   \n",
       "\n",
       "                                          description  \\\n",
       "35  The grim realities of caste discrimination com...   \n",
       "37  In Goa and in desperate need of cash, four chi...   \n",
       "41  Aamir Khan teams with director Rajkumar Hirani...   \n",
       "58  Rushing to pay off a loan shark, a young man b...   \n",
       "99  Years after a disastrous job in Balochistan, a...   \n",
       "\n",
       "                         Movie Type  \n",
       "35                     Adult Movies  \n",
       "37  Family Movies-Parental Guidance  \n",
       "41  Family Movies-Parental Guidance  \n",
       "58  Family Movies-Parental Guidance  \n",
       "99                     Adult Movies  "
      ]
     },
     "execution_count": 8,
     "metadata": {},
     "output_type": "execute_result"
    }
   ],
   "source": [
    "df_india.head()"
   ]
  },
  {
   "cell_type": "code",
   "execution_count": 9,
   "metadata": {},
   "outputs": [
    {
     "data": {
      "text/plain": [
       "<matplotlib.axes._subplots.AxesSubplot at 0x7f8c0443ba90>"
      ]
     },
     "execution_count": 9,
     "metadata": {},
     "output_type": "execute_result"
    },
    {
     "data": {
      "image/png": "[encoded data removed]",
      "text/plain": [
       "<Figure size 432x288 with 1 Axes>"
      ]
     },
     "metadata": {
      "needs_background": "light"
     },
     "output_type": "display_data"
    }
   ],
   "source": [
    "sns.countplot(y='type',data=df_india,palette='Set1')"
   ]
  },
  {
   "cell_type": "code",
   "execution_count": 10,
   "metadata": {},
   "outputs": [
    {
     "data": {
      "text/plain": [
       "<matplotlib.axes._subplots.AxesSubplot at 0x7f8c043c8100>"
      ]
     },
     "execution_count": 10,
     "metadata": {},
     "output_type": "execute_result"
    },
    {
     "data": {
      "image/png": "[encoded data removed]",
      "text/plain": [
       "<Figure size 432x288 with 1 Axes>"
      ]
     },
     "metadata": {
      "needs_background": "light"
     },
     "output_type": "display_data"
    }
   ],
   "source": [
    "sns.countplot(y='Movie Type',data=df_india,palette='Set1')"
   ]
  },
  {
   "cell_type": "code",
   "execution_count": 11,
   "metadata": {},
   "outputs": [
    {
     "data": {
      "text/plain": [
       "<matplotlib.axes._subplots.AxesSubplot at 0x7f8c03c75df0>"
      ]
     },
     "execution_count": 11,
     "metadata": {},
     "output_type": "execute_result"
    },
    {
     "data": {
      "image/png": "[encoded data removed]",
      "text/plain": [
       "<Figure size 432x288 with 1 Axes>"
      ]
     },
     "metadata": {
      "needs_background": "light"
     },
     "output_type": "display_data"
    }
   ],
   "source": [
    "sns.countplot(y='Movie Type',data=df_india[df[\"type\"]==\"Movie\"],palette='Set1')"
   ]
  },
  {
   "cell_type": "code",
   "execution_count": 12,
   "metadata": {},
   "outputs": [
    {
     "data": {
      "text/plain": [
       "<matplotlib.axes._subplots.AxesSubplot at 0x7f8c03c5b5e0>"
      ]
     },
     "execution_count": 12,
     "metadata": {},
     "output_type": "execute_result"
    },
    {
     "data": {
      "image/png": "[encoded data removed]",
      "text/plain": [
       "<Figure size 432x288 with 1 Axes>"
      ]
     },
     "metadata": {
      "needs_background": "light"
     },
     "output_type": "display_data"
    }
   ],
   "source": [
    "sns.countplot(y='Movie Type',data=df_india[df[\"type\"]==\"TV Show\"])"
   ]
  },
  {
   "cell_type": "code",
   "execution_count": 13,
   "metadata": {},
   "outputs": [],
   "source": [
    "def category_separator(category,show_id):\n",
    "    for i in (re.split(r',',category)):\n",
    "        if i.strip() in df_india:\n",
    "            df_india[i.strip()][df_india['show_id']==show_id]='YES'\n",
    "        else:\n",
    "            df_india[i.strip()]='NO'\n",
    "            df_india[i.strip()][df_india['show_id']==show_id]='YES'"
   ]
  },
  {
   "cell_type": "code",
   "execution_count": 15,
   "metadata": {},
   "outputs": [],
   "source": [
    "import re\n",
    "for show_id, category in zip(df_india.show_id, df_india.listed_in): \n",
    "    category_separator(category,show_id)"
   ]
  },
  {
   "cell_type": "code",
   "execution_count": 16,
   "metadata": {},
   "outputs": [
    {
     "data": {
      "text/html": [
       "<div>\n",
       "<style scoped>\n",
       "    .dataframe tbody tr th:only-of-type {\n",
       "        vertical-align: middle;\n",
       "    }\n",
       "\n",
       "    .dataframe tbody tr th {\n",
       "        vertical-align: top;\n",
       "    }\n",
       "\n",
       "    .dataframe thead th {\n",
       "        text-align: right;\n",
       "    }\n",
       "</style>\n",
       "<table border=\"1\" class=\"dataframe\">\n",
       "  <thead>\n",
       "    <tr style=\"text-align: right;\">\n",
       "      <th></th>\n",
       "      <th>show_id</th>\n",
       "      <th>type</th>\n",
       "      <th>title</th>\n",
       "      <th>director</th>\n",
       "      <th>cast</th>\n",
       "      <th>date_added</th>\n",
       "      <th>release_year</th>\n",
       "      <th>rating</th>\n",
       "      <th>duration</th>\n",
       "      <th>listed_in</th>\n",
       "      <th>...</th>\n",
       "      <th>TV Mysteries</th>\n",
       "      <th>Crime TV Shows</th>\n",
       "      <th>TV Thrillers</th>\n",
       "      <th>TV Sci-Fi &amp; Fantasy</th>\n",
       "      <th>Stand-Up Comedy</th>\n",
       "      <th>Classic Movies</th>\n",
       "      <th>Teen TV Shows</th>\n",
       "      <th>LGBTQ Movies</th>\n",
       "      <th>Stand-Up Comedy &amp; Talk Shows</th>\n",
       "      <th>Reality TV</th>\n",
       "    </tr>\n",
       "  </thead>\n",
       "  <tbody>\n",
       "    <tr>\n",
       "      <th>35</th>\n",
       "      <td>81154455</td>\n",
       "      <td>Movie</td>\n",
       "      <td>Article 15</td>\n",
       "      <td>Anubhav Sinha</td>\n",
       "      <td>Ayushmann Khurrana, Nassar, Manoj Pahwa, Kumud...</td>\n",
       "      <td>September 6, 2019</td>\n",
       "      <td>2019</td>\n",
       "      <td>TV-MA</td>\n",
       "      <td>125 min</td>\n",
       "      <td>Dramas, International Movies, Thrillers</td>\n",
       "      <td>...</td>\n",
       "      <td>NO</td>\n",
       "      <td>NO</td>\n",
       "      <td>NO</td>\n",
       "      <td>NO</td>\n",
       "      <td>NO</td>\n",
       "      <td>NO</td>\n",
       "      <td>NO</td>\n",
       "      <td>NO</td>\n",
       "      <td>NO</td>\n",
       "      <td>NO</td>\n",
       "    </tr>\n",
       "    <tr>\n",
       "      <th>37</th>\n",
       "      <td>81052275</td>\n",
       "      <td>Movie</td>\n",
       "      <td>Ee Nagaraniki Emaindi</td>\n",
       "      <td>Tharun Bhascker</td>\n",
       "      <td>Vishwaksen Naidu, Sushanth Reddy, Abhinav Goma...</td>\n",
       "      <td>September 6, 2019</td>\n",
       "      <td>2018</td>\n",
       "      <td>TV-14</td>\n",
       "      <td>133 min</td>\n",
       "      <td>Comedies, International Movies</td>\n",
       "      <td>...</td>\n",
       "      <td>NO</td>\n",
       "      <td>NO</td>\n",
       "      <td>NO</td>\n",
       "      <td>NO</td>\n",
       "      <td>NO</td>\n",
       "      <td>NO</td>\n",
       "      <td>NO</td>\n",
       "      <td>NO</td>\n",
       "      <td>NO</td>\n",
       "      <td>NO</td>\n",
       "    </tr>\n",
       "    <tr>\n",
       "      <th>41</th>\n",
       "      <td>70303496</td>\n",
       "      <td>Movie</td>\n",
       "      <td>PK</td>\n",
       "      <td>Rajkumar Hirani</td>\n",
       "      <td>Aamir Khan, Anuskha Sharma, Sanjay Dutt, Saura...</td>\n",
       "      <td>September 6, 2018</td>\n",
       "      <td>2014</td>\n",
       "      <td>TV-14</td>\n",
       "      <td>146 min</td>\n",
       "      <td>Comedies, Dramas, International Movies</td>\n",
       "      <td>...</td>\n",
       "      <td>NO</td>\n",
       "      <td>NO</td>\n",
       "      <td>NO</td>\n",
       "      <td>NO</td>\n",
       "      <td>NO</td>\n",
       "      <td>NO</td>\n",
       "      <td>NO</td>\n",
       "      <td>NO</td>\n",
       "      <td>NO</td>\n",
       "      <td>NO</td>\n",
       "    </tr>\n",
       "    <tr>\n",
       "      <th>58</th>\n",
       "      <td>81155784</td>\n",
       "      <td>Movie</td>\n",
       "      <td>Watchman</td>\n",
       "      <td>A. L. Vijay</td>\n",
       "      <td>G.V. Prakash Kumar, Samyuktha Hegde, Suman, Ra...</td>\n",
       "      <td>September 4, 2019</td>\n",
       "      <td>2019</td>\n",
       "      <td>TV-14</td>\n",
       "      <td>93 min</td>\n",
       "      <td>Comedies, Dramas, International Movies</td>\n",
       "      <td>...</td>\n",
       "      <td>NO</td>\n",
       "      <td>NO</td>\n",
       "      <td>NO</td>\n",
       "      <td>NO</td>\n",
       "      <td>NO</td>\n",
       "      <td>NO</td>\n",
       "      <td>NO</td>\n",
       "      <td>NO</td>\n",
       "      <td>NO</td>\n",
       "      <td>NO</td>\n",
       "    </tr>\n",
       "    <tr>\n",
       "      <th>99</th>\n",
       "      <td>80225885</td>\n",
       "      <td>TV Show</td>\n",
       "      <td>Bard of Blood</td>\n",
       "      <td>NaN</td>\n",
       "      <td>Emraan Hashmi, Viineet Kumar, Sobhita Dhulipal...</td>\n",
       "      <td>September 27, 2019</td>\n",
       "      <td>2019</td>\n",
       "      <td>TV-MA</td>\n",
       "      <td>1 Season</td>\n",
       "      <td>International TV Shows, TV Action &amp; Adventure,...</td>\n",
       "      <td>...</td>\n",
       "      <td>NO</td>\n",
       "      <td>NO</td>\n",
       "      <td>NO</td>\n",
       "      <td>NO</td>\n",
       "      <td>NO</td>\n",
       "      <td>NO</td>\n",
       "      <td>NO</td>\n",
       "      <td>NO</td>\n",
       "      <td>NO</td>\n",
       "      <td>NO</td>\n",
       "    </tr>\n",
       "    <tr>\n",
       "      <th>...</th>\n",
       "      <td>...</td>\n",
       "      <td>...</td>\n",
       "      <td>...</td>\n",
       "      <td>...</td>\n",
       "      <td>...</td>\n",
       "      <td>...</td>\n",
       "      <td>...</td>\n",
       "      <td>...</td>\n",
       "      <td>...</td>\n",
       "      <td>...</td>\n",
       "      <td>...</td>\n",
       "      <td>...</td>\n",
       "      <td>...</td>\n",
       "      <td>...</td>\n",
       "      <td>...</td>\n",
       "      <td>...</td>\n",
       "      <td>...</td>\n",
       "      <td>...</td>\n",
       "      <td>...</td>\n",
       "      <td>...</td>\n",
       "      <td>...</td>\n",
       "    </tr>\n",
       "    <tr>\n",
       "      <th>5573</th>\n",
       "      <td>80171439</td>\n",
       "      <td>Movie</td>\n",
       "      <td>The Human Factor: The Untold Story of the Bomb...</td>\n",
       "      <td>Rudradeep Bhattacharjee</td>\n",
       "      <td>NaN</td>\n",
       "      <td>April 1, 2017</td>\n",
       "      <td>2013</td>\n",
       "      <td>TV-PG</td>\n",
       "      <td>53 min</td>\n",
       "      <td>Documentaries, International Movies, Music &amp; M...</td>\n",
       "      <td>...</td>\n",
       "      <td>NO</td>\n",
       "      <td>NO</td>\n",
       "      <td>NO</td>\n",
       "      <td>NO</td>\n",
       "      <td>NO</td>\n",
       "      <td>NO</td>\n",
       "      <td>NO</td>\n",
       "      <td>NO</td>\n",
       "      <td>NO</td>\n",
       "      <td>NO</td>\n",
       "    </tr>\n",
       "    <tr>\n",
       "      <th>5708</th>\n",
       "      <td>81011159</td>\n",
       "      <td>TV Show</td>\n",
       "      <td>Little Things</td>\n",
       "      <td>NaN</td>\n",
       "      <td>Dhruv Sehgal, Mithila Palkar</td>\n",
       "      <td>November 9, 2019</td>\n",
       "      <td>2019</td>\n",
       "      <td>TV-MA</td>\n",
       "      <td>3 Seasons</td>\n",
       "      <td>International TV Shows, Romantic TV Shows, TV ...</td>\n",
       "      <td>...</td>\n",
       "      <td>NO</td>\n",
       "      <td>NO</td>\n",
       "      <td>NO</td>\n",
       "      <td>NO</td>\n",
       "      <td>NO</td>\n",
       "      <td>NO</td>\n",
       "      <td>NO</td>\n",
       "      <td>NO</td>\n",
       "      <td>NO</td>\n",
       "      <td>NO</td>\n",
       "    </tr>\n",
       "    <tr>\n",
       "      <th>5839</th>\n",
       "      <td>80178836</td>\n",
       "      <td>TV Show</td>\n",
       "      <td>The House That Made Me</td>\n",
       "      <td>NaN</td>\n",
       "      <td>Vinay Pathak</td>\n",
       "      <td>March 31, 2017</td>\n",
       "      <td>2015</td>\n",
       "      <td>TV-PG</td>\n",
       "      <td>3 Seasons</td>\n",
       "      <td>International TV Shows, Reality TV</td>\n",
       "      <td>...</td>\n",
       "      <td>NO</td>\n",
       "      <td>NO</td>\n",
       "      <td>NO</td>\n",
       "      <td>NO</td>\n",
       "      <td>NO</td>\n",
       "      <td>NO</td>\n",
       "      <td>NO</td>\n",
       "      <td>NO</td>\n",
       "      <td>NO</td>\n",
       "      <td>YES</td>\n",
       "    </tr>\n",
       "    <tr>\n",
       "      <th>5867</th>\n",
       "      <td>80207879</td>\n",
       "      <td>TV Show</td>\n",
       "      <td>Sab Jholmaal Hai</td>\n",
       "      <td>Vijay Roche</td>\n",
       "      <td>NaN</td>\n",
       "      <td>March 1, 2019</td>\n",
       "      <td>2017</td>\n",
       "      <td>TV-G</td>\n",
       "      <td>4 Seasons</td>\n",
       "      <td>Kids' TV, TV Comedies</td>\n",
       "      <td>...</td>\n",
       "      <td>NO</td>\n",
       "      <td>NO</td>\n",
       "      <td>NO</td>\n",
       "      <td>NO</td>\n",
       "      <td>NO</td>\n",
       "      <td>NO</td>\n",
       "      <td>NO</td>\n",
       "      <td>NO</td>\n",
       "      <td>NO</td>\n",
       "      <td>NO</td>\n",
       "    </tr>\n",
       "    <tr>\n",
       "      <th>5923</th>\n",
       "      <td>80122239</td>\n",
       "      <td>TV Show</td>\n",
       "      <td>Pyaar Tune Kya Kiya</td>\n",
       "      <td>NaN</td>\n",
       "      <td>Meiyang Chang, Surbhi Jyoti</td>\n",
       "      <td>June 1, 2017</td>\n",
       "      <td>2014</td>\n",
       "      <td>TV-14</td>\n",
       "      <td>3 Seasons</td>\n",
       "      <td>International TV Shows, Romantic TV Shows, TV ...</td>\n",
       "      <td>...</td>\n",
       "      <td>NO</td>\n",
       "      <td>NO</td>\n",
       "      <td>NO</td>\n",
       "      <td>NO</td>\n",
       "      <td>NO</td>\n",
       "      <td>NO</td>\n",
       "      <td>NO</td>\n",
       "      <td>NO</td>\n",
       "      <td>NO</td>\n",
       "      <td>NO</td>\n",
       "    </tr>\n",
       "  </tbody>\n",
       "</table>\n",
       "<p>777 rows × 46 columns</p>\n",
       "</div>"
      ],
      "text/plain": [
       "       show_id     type                                              title  \\\n",
       "35    81154455    Movie                                         Article 15   \n",
       "37    81052275    Movie                              Ee Nagaraniki Emaindi   \n",
       "41    70303496    Movie                                                 PK   \n",
       "58    81155784    Movie                                           Watchman   \n",
       "99    80225885  TV Show                                      Bard of Blood   \n",
       "...        ...      ...                                                ...   \n",
       "5573  80171439    Movie  The Human Factor: The Untold Story of the Bomb...   \n",
       "5708  81011159  TV Show                                      Little Things   \n",
       "5839  80178836  TV Show                             The House That Made Me   \n",
       "5867  80207879  TV Show                                   Sab Jholmaal Hai   \n",
       "5923  80122239  TV Show                                Pyaar Tune Kya Kiya   \n",
       "\n",
       "                     director  \\\n",
       "35              Anubhav Sinha   \n",
       "37            Tharun Bhascker   \n",
       "41            Rajkumar Hirani   \n",
       "58                A. L. Vijay   \n",
       "99                        NaN   \n",
       "...                       ...   \n",
       "5573  Rudradeep Bhattacharjee   \n",
       "5708                      NaN   \n",
       "5839                      NaN   \n",
       "5867              Vijay Roche   \n",
       "5923                      NaN   \n",
       "\n",
       "                                                   cast          date_added  \\\n",
       "35    Ayushmann Khurrana, Nassar, Manoj Pahwa, Kumud...   September 6, 2019   \n",
       "37    Vishwaksen Naidu, Sushanth Reddy, Abhinav Goma...   September 6, 2019   \n",
       "41    Aamir Khan, Anuskha Sharma, Sanjay Dutt, Saura...   September 6, 2018   \n",
       "58    G.V. Prakash Kumar, Samyuktha Hegde, Suman, Ra...   September 4, 2019   \n",
       "99    Emraan Hashmi, Viineet Kumar, Sobhita Dhulipal...  September 27, 2019   \n",
       "...                                                 ...                 ...   \n",
       "5573                                                NaN       April 1, 2017   \n",
       "5708                       Dhruv Sehgal, Mithila Palkar    November 9, 2019   \n",
       "5839                                       Vinay Pathak      March 31, 2017   \n",
       "5867                                                NaN       March 1, 2019   \n",
       "5923                        Meiyang Chang, Surbhi Jyoti        June 1, 2017   \n",
       "\n",
       "      release_year rating   duration  \\\n",
       "35            2019  TV-MA    125 min   \n",
       "37            2018  TV-14    133 min   \n",
       "41            2014  TV-14    146 min   \n",
       "58            2019  TV-14     93 min   \n",
       "99            2019  TV-MA   1 Season   \n",
       "...            ...    ...        ...   \n",
       "5573          2013  TV-PG     53 min   \n",
       "5708          2019  TV-MA  3 Seasons   \n",
       "5839          2015  TV-PG  3 Seasons   \n",
       "5867          2017   TV-G  4 Seasons   \n",
       "5923          2014  TV-14  3 Seasons   \n",
       "\n",
       "                                              listed_in  ... TV Mysteries  \\\n",
       "35              Dramas, International Movies, Thrillers  ...           NO   \n",
       "37                       Comedies, International Movies  ...           NO   \n",
       "41               Comedies, Dramas, International Movies  ...           NO   \n",
       "58               Comedies, Dramas, International Movies  ...           NO   \n",
       "99    International TV Shows, TV Action & Adventure,...  ...           NO   \n",
       "...                                                 ...  ...          ...   \n",
       "5573  Documentaries, International Movies, Music & M...  ...           NO   \n",
       "5708  International TV Shows, Romantic TV Shows, TV ...  ...           NO   \n",
       "5839                 International TV Shows, Reality TV  ...           NO   \n",
       "5867                              Kids' TV, TV Comedies  ...           NO   \n",
       "5923  International TV Shows, Romantic TV Shows, TV ...  ...           NO   \n",
       "\n",
       "     Crime TV Shows TV Thrillers TV Sci-Fi & Fantasy Stand-Up Comedy  \\\n",
       "35               NO           NO                  NO              NO   \n",
       "37               NO           NO                  NO              NO   \n",
       "41               NO           NO                  NO              NO   \n",
       "58               NO           NO                  NO              NO   \n",
       "99               NO           NO                  NO              NO   \n",
       "...             ...          ...                 ...             ...   \n",
       "5573             NO           NO                  NO              NO   \n",
       "5708             NO           NO                  NO              NO   \n",
       "5839             NO           NO                  NO              NO   \n",
       "5867             NO           NO                  NO              NO   \n",
       "5923             NO           NO                  NO              NO   \n",
       "\n",
       "     Classic Movies Teen TV Shows LGBTQ Movies Stand-Up Comedy & Talk Shows  \\\n",
       "35               NO            NO           NO                           NO   \n",
       "37               NO            NO           NO                           NO   \n",
       "41               NO            NO           NO                           NO   \n",
       "58               NO            NO           NO                           NO   \n",
       "99               NO            NO           NO                           NO   \n",
       "...             ...           ...          ...                          ...   \n",
       "5573             NO            NO           NO                           NO   \n",
       "5708             NO            NO           NO                           NO   \n",
       "5839             NO            NO           NO                           NO   \n",
       "5867             NO            NO           NO                           NO   \n",
       "5923             NO            NO           NO                           NO   \n",
       "\n",
       "     Reality TV  \n",
       "35           NO  \n",
       "37           NO  \n",
       "41           NO  \n",
       "58           NO  \n",
       "99           NO  \n",
       "...         ...  \n",
       "5573         NO  \n",
       "5708         NO  \n",
       "5839        YES  \n",
       "5867         NO  \n",
       "5923         NO  \n",
       "\n",
       "[777 rows x 46 columns]"
      ]
     },
     "execution_count": 16,
     "metadata": {},
     "output_type": "execute_result"
    }
   ],
   "source": [
    "df_india"
   ]
  },
  {
   "cell_type": "code",
   "execution_count": 17,
   "metadata": {},
   "outputs": [
    {
     "data": {
      "text/plain": [
       "NO     545\n",
       "YES    232\n",
       "Name: Comedies, dtype: int64"
      ]
     },
     "execution_count": 17,
     "metadata": {},
     "output_type": "execute_result"
    },
    {
     "data": {
      "image/png": "[encoded data removed]",
      "text/plain": [
       "<Figure size 432x288 with 1 Axes>"
      ]
     },
     "metadata": {
      "needs_background": "light"
     },
     "output_type": "display_data"
    }
   ],
   "source": [
    "sns.countplot(x='Comedies',data=df_india)\n",
    "df_india['Comedies'].value_counts()"
   ]
  },
  {
   "cell_type": "code",
   "execution_count": 18,
   "metadata": {},
   "outputs": [
    {
     "data": {
      "text/plain": [
       "NO     659\n",
       "YES    118\n",
       "Name: Action & Adventure, dtype: int64"
      ]
     },
     "execution_count": 18,
     "metadata": {},
     "output_type": "execute_result"
    },
    {
     "data": {
      "image/png": "[encoded data removed]",
      "text/plain": [
       "<Figure size 432x288 with 1 Axes>"
      ]
     },
     "metadata": {
      "needs_background": "light"
     },
     "output_type": "display_data"
    }
   ],
   "source": [
    "sns.countplot(x='Action & Adventure',data=df_india,palette='Set1')\n",
    "df_india['Action & Adventure'].value_counts()"
   ]
  },
  {
   "cell_type": "code",
   "execution_count": 19,
   "metadata": {},
   "outputs": [
    {
     "data": {
      "text/plain": [
       "<matplotlib.axes._subplots.AxesSubplot at 0x7f8c03a78af0>"
      ]
     },
     "execution_count": 19,
     "metadata": {},
     "output_type": "execute_result"
    },
    {
     "data": {
      "image/png": "[encoded data removed]",
      "text/plain": [
       "<Figure size 432x288 with 1 Axes>"
      ]
     },
     "metadata": {
      "needs_background": "light"
     },
     "output_type": "display_data"
    }
   ],
   "source": [
    "sns.countplot(y='Movie Type',hue='Comedies',data=df_india)"
   ]
  },
  {
   "cell_type": "code",
   "execution_count": 20,
   "metadata": {},
   "outputs": [
    {
     "data": {
      "text/plain": [
       "<matplotlib.axes._subplots.AxesSubplot at 0x7f8c039f4190>"
      ]
     },
     "execution_count": 20,
     "metadata": {},
     "output_type": "execute_result"
    },
    {
     "data": {
      "image/png": "[encoded data removed]",
      "text/plain": [
       "<Figure size 432x288 with 1 Axes>"
      ]
     },
     "metadata": {
      "needs_background": "light"
     },
     "output_type": "display_data"
    }
   ],
   "source": [
    "sns.countplot(y='Movie Type',hue='Romantic Movies',data=df_india)"
   ]
  },
  {
   "cell_type": "code",
   "execution_count": 21,
   "metadata": {},
   "outputs": [
    {
     "data": {
      "text/plain": [
       "37     Ee Nagaraniki Emaindi\n",
       "41                        PK\n",
       "58                  Watchman\n",
       "119     Oh! Baby (Malayalam)\n",
       "120         Oh! Baby (Tamil)\n",
       "252                 Oh! Baby\n",
       "339             Hope Aur Hum\n",
       "364    Chadi Jawani Budhe Nu\n",
       "379               Manoranjan\n",
       "576                    Ready\n",
       "657                 Upstarts\n",
       "710          Story of an Egg\n",
       "712                   Teshan\n",
       "861       Ek Main Aur Ekk Tu\n",
       "865           Happy Go Lucky\n",
       "Name: title, dtype: object"
      ]
     },
     "execution_count": 21,
     "metadata": {},
     "output_type": "execute_result"
    }
   ],
   "source": [
    "df_india['title'][(df_india['Comedies']=='YES')&(df_india['Movie Type']=='Family Movies-Parental Guidance')].head(15)"
   ]
  },
  {
   "cell_type": "code",
   "execution_count": 22,
   "metadata": {},
   "outputs": [
    {
     "data": {
      "text/plain": [
       "2445     Stree\n",
       "5099    Lechmi\n",
       "Name: title, dtype: object"
      ]
     },
     "execution_count": 22,
     "metadata": {},
     "output_type": "execute_result"
    }
   ],
   "source": [
    "df_india['title'][(df_india['Comedies']=='YES')&(df_india['Horror Movies']=='YES')].head(10)"
   ]
  },
  {
   "cell_type": "code",
   "execution_count": 23,
   "metadata": {},
   "outputs": [
    {
     "data": {
      "text/plain": [
       "380                                         Mujrim\n",
       "549     Baahubali: The Beginning (English Version)\n",
       "714                                      Veerappan\n",
       "848                                       25 Kille\n",
       "870                                   Jodhaa Akbar\n",
       "878                                         Kisaan\n",
       "1441                     Arjun: The Warrior Prince\n",
       "1496                                        Bandie\n",
       "1634                                       Rangoon\n",
       "1756                                       Aiyaary\n",
       "1809                       Bbuddah Hoga Terra Baap\n",
       "1810                                Gabbar Is Back\n",
       "1840                       CIA: Comrade in America\n",
       "1856                                       Nibunan\n",
       "2067                                           Sei\n",
       "Name: title, dtype: object"
      ]
     },
     "execution_count": 23,
     "metadata": {},
     "output_type": "execute_result"
    }
   ],
   "source": [
    "df_india['title'][(df_india['Action & Adventure']=='YES')&((df_india['Dramas']=='YES'))&(df_india['Movie Type']=='Family Movies-Parental Guidance')].head(15)"
   ]
  },
  {
   "cell_type": "code",
   "execution_count": 44,
   "metadata": {},
   "outputs": [],
   "source": [
    "df_india.fillna('No available', inplace=True)"
   ]
  },
  {
   "cell_type": "code",
   "execution_count": 46,
   "metadata": {},
   "outputs": [
    {
     "data": {
      "text/plain": [
       "show_id                         0\n",
       "type                            0\n",
       "title                           0\n",
       "director                        0\n",
       "cast                            0\n",
       "date_added                      0\n",
       "release_year                    0\n",
       "rating                          0\n",
       "duration                        0\n",
       "listed_in                       0\n",
       "description                     0\n",
       "Movie Type                      0\n",
       "Dramas                          0\n",
       "International Movies            0\n",
       "Thrillers                       0\n",
       "Comedies                        0\n",
       "International TV Shows          0\n",
       "TV Action & Adventure           0\n",
       "TV Dramas                       0\n",
       "Romantic Movies                 0\n",
       "Music & Musicals                0\n",
       "Independent Movies              0\n",
       "Action & Adventure              0\n",
       "Children & Family Movies        0\n",
       "Sports Movies                   0\n",
       "Kids' TV                        0\n",
       "TV Comedies                     0\n",
       "Horror Movies                   0\n",
       "Romantic TV Shows               0\n",
       "Documentaries                   0\n",
       "Sci-Fi & Fantasy                0\n",
       "Faith & Spirituality            0\n",
       "TV Shows                        0\n",
       "Cult Movies                     0\n",
       "Docuseries                      0\n",
       "TV Horror                       0\n",
       "TV Mysteries                    0\n",
       "Crime TV Shows                  0\n",
       "TV Thrillers                    0\n",
       "TV Sci-Fi & Fantasy             0\n",
       "Stand-Up Comedy                 0\n",
       "Classic Movies                  0\n",
       "Teen TV Shows                   0\n",
       "LGBTQ Movies                    0\n",
       "Stand-Up Comedy & Talk Shows    0\n",
       "Reality TV                      0\n",
       "dtype: int64"
      ]
     },
     "execution_count": 46,
     "metadata": {},
     "output_type": "execute_result"
    }
   ],
   "source": [
    "df_india.isnull().sum()"
   ]
  },
  {
   "cell_type": "code",
   "execution_count": 55,
   "metadata": {},
   "outputs": [
    {
     "name": "stdout",
     "output_type": "stream",
     "text": [
      "1649    Raees\n",
      "Name: title, dtype: object\n",
      "1686    Zero\n",
      "Name: title, dtype: object\n",
      "1761    Chamatkar\n",
      "Name: title, dtype: object\n",
      "1764    Kabhi Haan Kabhi Naa\n",
      "Name: title, dtype: object\n",
      "1767    Ram Jaane\n",
      "Name: title, dtype: object\n",
      "1884    Chaahat\n",
      "Name: title, dtype: object\n",
      "1890    English Babu Desi Mem\n",
      "Name: title, dtype: object\n",
      "2216    Asoka\n",
      "Name: title, dtype: object\n",
      "2221    One 2 Ka 4\n",
      "Name: title, dtype: object\n",
      "2335    Dil Se\n",
      "Name: title, dtype: object\n",
      "2363    Pardes\n",
      "Name: title, dtype: object\n",
      "2370    Shakti: The Power\n",
      "Name: title, dtype: object\n",
      "2379    Swades\n",
      "Name: title, dtype: object\n",
      "2394    Trimurti\n",
      "Name: title, dtype: object\n",
      "2746    Oh Darling Yeh Hai India\n",
      "Name: title, dtype: object\n",
      "3096    Chalte Chalte\n",
      "Name: title, dtype: object\n",
      "4067    Dilwale\n",
      "Name: title, dtype: object\n",
      "4069    Happy New Year\n",
      "Name: title, dtype: object\n",
      "4432    Jab Harry Met Sejal\n",
      "Name: title, dtype: object\n",
      "4491    Don\n",
      "Name: title, dtype: object\n",
      "4792    Chennai Express\n",
      "Name: title, dtype: object\n",
      "5308    Dear Zindagi\n",
      "Name: title, dtype: object\n",
      "5513    Billu\n",
      "Name: title, dtype: object\n",
      "5531    Main Hoon Na\n",
      "Name: title, dtype: object\n",
      "5534    Om Shanti Om\n",
      "Name: title, dtype: object\n",
      "5535    Paheli\n",
      "Name: title, dtype: object\n",
      "5536    Phir Bhi Dil Hai Hindustani\n",
      "Name: title, dtype: object\n"
     ]
    }
   ],
   "source": [
    "for i in df_india.cast:\n",
    "    if \"shah rukh khan\" in i.lower():\n",
    "        print(df_india[df_india['cast']==i]['title'])"
   ]
  },
  {
   "cell_type": "code",
   "execution_count": 56,
   "metadata": {},
   "outputs": [
    {
     "name": "stdout",
     "output_type": "stream",
     "text": [
      "576    Ready\n",
      "Name: title, dtype: object\n",
      "1301    Lucky: No Time for Love\n",
      "Name: title, dtype: object\n",
      "1306    Mumbai Cha Raja\n",
      "Name: title, dtype: object\n",
      "1737    Andaz Apna Apna\n",
      "Name: title, dtype: object\n",
      "2362    No Entry\n",
      "Name: title, dtype: object\n",
      "3657    Hum Aapke Hain Koun\n",
      "Name: title, dtype: object\n",
      "3658    Hum Saath-Saath Hain\n",
      "Name: title, dtype: object\n",
      "3665    Maine Pyar Kiya\n",
      "Name: title, dtype: object\n",
      "4186    Chal Mere Bhai\n",
      "Name: title, dtype: object\n",
      "4202    Jaan-E-Mann: Let's Fall in Love... Again\n",
      "Name: title, dtype: object\n",
      "4206    Judwaa\n",
      "Name: title, dtype: object\n",
      "4212    Maine Pyaar Kyun Kiya\n",
      "Name: title, dtype: object\n",
      "4214    Mujhse Shaadi Karogi\n",
      "Name: title, dtype: object\n",
      "4921    Main aurr Mrs. Khanna\n",
      "Name: title, dtype: object\n"
     ]
    }
   ],
   "source": [
    "for i in df_india.cast:\n",
    "    if \"salman khan\" in i.lower():\n",
    "        print(df_india[df_india['cast']==i]['title'])"
   ]
  },
  {
   "cell_type": "code",
   "execution_count": 58,
   "metadata": {},
   "outputs": [
    {
     "name": "stdout",
     "output_type": "stream",
     "text": [
      "41    PK\n",
      "Name: title, dtype: object\n",
      "1746    EMI: Liya Hai To Chukana Padega\n",
      "Name: title, dtype: object\n",
      "1754    Shootout at Lokhandwala\n",
      "Name: title, dtype: object\n",
      "2342    Haseena Maan Jaayegi\n",
      "Name: title, dtype: object\n",
      "2353    Khalnayak\n",
      "Name: title, dtype: object\n",
      "2364    Pitaah\n",
      "Name: title, dtype: object\n",
      "3093    Anthony Kaun Hai?\n",
      "Name: title, dtype: object\n",
      "4186    Chal Mere Bhai\n",
      "Name: title, dtype: object\n",
      "4190    Dhamaal\n",
      "Name: title, dtype: object\n",
      "5407    Shabd\n",
      "Name: title, dtype: object\n"
     ]
    }
   ],
   "source": [
    "for i in df_india.cast:\n",
    "    if \"sanjay dutt\" in i.lower():\n",
    "        print(df_india[df_india['cast']==i]['title'])"
   ]
  },
  {
   "cell_type": "code",
   "execution_count": null,
   "metadata": {},
   "outputs": [],
   "source": []
  }
 ],
 "metadata": {
  "kernelspec": {
   "display_name": "Python 3.8.2 64-bit",
   "language": "python",
   "name": "python38264bit83e6fea1457f416d9db64f23f9f966e4"
  },
  "language_info": {
   "codemirror_mode": {
    "name": "ipython",
    "version": 3
   },
   "file_extension": ".py",
   "mimetype": "text/x-python",
   "name": "python",
   "nbconvert_exporter": "python",
   "pygments_lexer": "ipython3",
   "version": "3.8.2"
  }
 },
 "nbformat": 4,
 "nbformat_minor": 4
}
